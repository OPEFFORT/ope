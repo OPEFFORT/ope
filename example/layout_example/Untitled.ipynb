{
 "cells": [
  {
   "cell_type": "code",
   "execution_count": null,
   "id": "b9ac4b07-cb7e-4860-815f-3fad995affaa",
   "metadata": {},
   "outputs": [],
   "source": []
  },
  {
   "cell_type": "markdown",
   "id": "65b44b4d-24c3-4259-93b3-9393767e7d09",
   "metadata": {
    "slideshow": {
     "slide_type": "skip"
    },
    "tags": []
   },
   "source": [
    "<hr>"
   ]
  },
  {
   "cell_type": "markdown",
   "id": "d5b335e5-1382-4560-bd3e-4f633d2512bc",
   "metadata": {
    "slideshow": {
     "slide_type": "skip"
    },
    "tags": []
   },
   "source": [
    "**BODY**"
   ]
  },
  {
   "cell_type": "markdown",
   "id": "c636ce4f-a69e-4c11-85d2-655fba00fa25",
   "metadata": {
    "slideshow": {
     "slide_type": "slide"
    },
    "tags": []
   },
   "source": [
    "Slide body"
   ]
  },
  {
   "cell_type": "markdown",
   "id": "cd0e4cd5-e01f-48cb-b477-d2b3b5081f4c",
   "metadata": {
    "slideshow": {
     "slide_type": "skip"
    },
    "tags": []
   },
   "source": [
    "**NOTE**"
   ]
  },
  {
   "cell_type": "markdown",
   "id": "1a6abb1d-a749-43f7-8f66-0b70348b5319",
   "metadata": {
    "slideshow": {
     "slide_type": "notes"
    },
    "tags": []
   },
   "source": [
    "- a Note that will display in the notes view"
   ]
  },
  {
   "cell_type": "markdown",
   "id": "7006fa1e-c618-40e0-927b-e61ecd2f9f3e",
   "metadata": {
    "slideshow": {
     "slide_type": "skip"
    },
    "tags": []
   },
   "source": [
    "<hr>"
   ]
  },
  {
   "cell_type": "markdown",
   "id": "414c2acf-aafc-45dc-a729-d469371ce7b9",
   "metadata": {
    "slideshow": {
     "slide_type": "skip"
    },
    "tags": []
   },
   "source": [
    "**Image Only**"
   ]
  },
  {
   "cell_type": "markdown",
   "id": "e4dd262a-150f-4bc7-93e8-1ae6e3b14602",
   "metadata": {
    "slideshow": {
     "slide_type": "slide"
    },
    "tags": []
   },
   "source": [
    "<img src=\"../images/default.png\" width = \"100%\">"
   ]
  },
  {
   "cell_type": "markdown",
   "id": "2ffdcee0-abab-44ae-a4b6-b9c304e9d39c",
   "metadata": {
    "slideshow": {
     "slide_type": "skip"
    },
    "tags": []
   },
   "source": [
    "**NOTE**"
   ]
  },
  {
   "cell_type": "markdown",
   "id": "3fdf8ed9-fe63-4754-b249-4e8cbe2fe072",
   "metadata": {
    "slideshow": {
     "slide_type": "notes"
    },
    "tags": []
   },
   "source": [
    "- Using % of slide to scale the image"
   ]
  },
  {
   "cell_type": "markdown",
   "id": "9cf5cee6-acd1-460d-a990-b13427de4846",
   "metadata": {
    "slideshow": {
     "slide_type": "skip"
    },
    "tags": []
   },
   "source": [
    "<hr>"
   ]
  },
  {
   "cell_type": "markdown",
   "id": "1afcfc2e-906f-4d39-92f2-9bef41ad7c28",
   "metadata": {
    "slideshow": {
     "slide_type": "slide"
    },
    "tags": []
   },
   "source": [
    "# Title"
   ]
  },
  {
   "cell_type": "markdown",
   "id": "9b7d17de-6929-48d6-b17d-7f7017e18173",
   "metadata": {},
   "source": [
    "<table>\n",
    "         <tr>\n",
    "           <td> <ul> <li> Bullet 1 : Something keypoints, and a long description </li> \n",
    "                     <li> Bullet 2 : Something keypoints, and a long description </li> </ul> </td>\n",
    "           <td> <img src=\"../images/default.png\" width = \"100%\">\n",
    "         </tr>\n",
    "         </table>"
   ]
  },
  {
   "cell_type": "markdown",
   "id": "4afc25d3-a46f-45b0-8c52-39a51720701a",
   "metadata": {},
   "source": [
    "Closing Comment"
   ]
  },
  {
   "cell_type": "markdown",
   "id": "b8063b3c-db7f-4240-8df0-ba55b619f567",
   "metadata": {
    "slideshow": {
     "slide_type": "skip"
    },
    "tags": []
   },
   "source": [
    "**NOTE**"
   ]
  },
  {
   "cell_type": "markdown",
   "id": "464d6f0e-4d1b-441a-a4f1-d44afecf44a0",
   "metadata": {
    "slideshow": {
     "slide_type": "notes"
    },
    "tags": []
   },
   "source": [
    "- Using % of slide to scale the image"
   ]
  },
  {
   "cell_type": "markdown",
   "id": "c200bce7-9752-4e17-8a24-5823338e6408",
   "metadata": {
    "slideshow": {
     "slide_type": "skip"
    },
    "tags": []
   },
   "source": [
    "<hr>"
   ]
  },
  {
   "cell_type": "markdown",
   "id": "07eb4c42-c0a8-4d2d-916b-a2eb6988f173",
   "metadata": {
    "slideshow": {
     "slide_type": "slide"
    },
    "tags": []
   },
   "source": [
    "# Title"
   ]
  },
  {
   "cell_type": "markdown",
   "id": "73d5f505-4f1c-4fe5-a3d1-01c112ad9558",
   "metadata": {},
   "source": [
    "<table>\n",
    "         <tr>\n",
    "           <td> <img src=\"../images/default.png\" width = \"80%\">\n",
    "           <td> <ul> <li> Bullet 1 : Something keypoints, and a long description </li> \n",
    "                     <li> Bullet 2 : Something keypoints, and a long description </li> </ul> </td>\n",
    "         </tr>\n",
    "         </table>"
   ]
  },
  {
   "cell_type": "markdown",
   "id": "6afb7b1d-9c40-46d6-b4ff-337fa2a01e20",
   "metadata": {},
   "source": [
    "Closing Comment"
   ]
  },
  {
   "cell_type": "markdown",
   "id": "90f4bbe8-f810-4e89-9fcb-8773178f7e0e",
   "metadata": {
    "slideshow": {
     "slide_type": "skip"
    },
    "tags": []
   },
   "source": [
    "**NOTE**"
   ]
  },
  {
   "cell_type": "markdown",
   "id": "6489231b-6a44-4683-8b7e-06681bf595cd",
   "metadata": {
    "slideshow": {
     "slide_type": "notes"
    },
    "tags": []
   },
   "source": [
    "- Using % of slide to scale the image"
   ]
  },
  {
   "cell_type": "markdown",
   "id": "a14b01eb-c439-4ad3-abaa-bf6f3cd661ee",
   "metadata": {
    "slideshow": {
     "slide_type": "skip"
    },
    "tags": []
   },
   "source": [
    "<hr>"
   ]
  },
  {
   "cell_type": "markdown",
   "id": "e1b8f3ca-3e2a-4cc6-98ef-47ef935f1697",
   "metadata": {
    "slideshow": {
     "slide_type": "slide"
    },
    "tags": []
   },
   "source": [
    "# Title"
   ]
  },
  {
   "cell_type": "markdown",
   "id": "49991f56-316d-4c6a-9d86-dbedf2746544",
   "metadata": {},
   "source": [
    "<table>\n",
    "         <tr>\n",
    "           <td> <img src=\"../images/default.png\" width = \"100%\">\n",
    "           <td> <img src=\"../images/default.png\" width = \"100%\">\n",
    "         </tr>\n",
    "         </table>"
   ]
  },
  {
   "cell_type": "markdown",
   "id": "ace66e5b-ca27-42f1-bc76-bc60340f91f6",
   "metadata": {},
   "source": [
    "Closing Comment"
   ]
  },
  {
   "cell_type": "markdown",
   "id": "3d123c78-e9ca-4c90-9aab-5fa17a51bb03",
   "metadata": {
    "slideshow": {
     "slide_type": "skip"
    },
    "tags": []
   },
   "source": [
    "**NOTE**"
   ]
  },
  {
   "cell_type": "markdown",
   "id": "83f98dfb-8f0b-4f52-8868-f0c82f0c219d",
   "metadata": {
    "slideshow": {
     "slide_type": "notes"
    },
    "tags": []
   },
   "source": [
    "- Using % of slide to scale the image"
   ]
  },
  {
   "cell_type": "markdown",
   "id": "84c2084b-8c87-41a1-bf81-f74be9141351",
   "metadata": {
    "slideshow": {
     "slide_type": "skip"
    },
    "tags": []
   },
   "source": [
    "<hr>"
   ]
  },
  {
   "cell_type": "markdown",
   "id": "2eb2cce2-5dc5-4c89-82bc-4f0d650936fb",
   "metadata": {
    "slideshow": {
     "slide_type": "slide"
    },
    "tags": []
   },
   "source": [
    "# Title"
   ]
  },
  {
   "cell_type": "markdown",
   "id": "4b0492ff-953d-4b85-aaa2-5905c0d03a35",
   "metadata": {},
   "source": [
    "- **Bullet 1:** Something keypoints, and a long description \n",
    " - **Bullet 2:** Something keypoints, and a long description \n",
    " - **Bullet 3:** Something keypoints, and a long description \n",
    "  - **Bullet 4:** Something keypoints, and a long description"
   ]
  },
  {
   "cell_type": "markdown",
   "id": "9389bfb2-1927-418b-bfaa-6d4709794e0d",
   "metadata": {
    "slideshow": {
     "slide_type": "skip"
    },
    "tags": []
   },
   "source": [
    "**NOTE**"
   ]
  },
  {
   "cell_type": "markdown",
   "id": "2eaf6bf8-04a5-4f6a-92c4-d64f3fca53a6",
   "metadata": {
    "slideshow": {
     "slide_type": "notes"
    },
    "tags": []
   },
   "source": [
    "- a Note that will display in the notes view"
   ]
  },
  {
   "cell_type": "markdown",
   "id": "2d7096ab-1c96-431a-8ff0-f72eff9dcdaa",
   "metadata": {
    "slideshow": {
     "slide_type": "skip"
    },
    "tags": []
   },
   "source": [
    "<hr>"
   ]
  },
  {
   "cell_type": "markdown",
   "id": "cb12e48d-2250-4851-9388-5f577e8ed168",
   "metadata": {
    "slideshow": {
     "slide_type": "slide"
    },
    "tags": []
   },
   "source": [
    "# Title"
   ]
  },
  {
   "cell_type": "markdown",
   "id": "d3a8f0d1-6c01-4765-b250-f6ee7a6e600a",
   "metadata": {
    "tags": []
   },
   "source": [
    "<table>\n",
    "         <tr>\n",
    "           <td> <ul> <li> Bullet 1.1 : Something keypoints, and a long description </li> \n",
    "                     <li> Bullet 2.1 : Something keypoints, and a long description </li> </ul> </td>\n",
    "           <td> <ul> <li> Bullet 1.2 : Something keypoints, and a long description </li> \n",
    "                     <li> Bullet 2.2 : Something keypoints, and a long description </li> </ul></td>\n",
    "         </tr>\n",
    "         </table>"
   ]
  },
  {
   "cell_type": "markdown",
   "id": "b93cd4c5-e8c3-43aa-916e-c223acae872d",
   "metadata": {
    "slideshow": {
     "slide_type": "skip"
    },
    "tags": []
   },
   "source": [
    "**NOTE**"
   ]
  },
  {
   "cell_type": "markdown",
   "id": "befef094-31cc-43e2-9f88-b5a3210ed354",
   "metadata": {
    "slideshow": {
     "slide_type": "notes"
    },
    "tags": []
   },
   "source": [
    "- a Note that will display in the notes view"
   ]
  },
  {
   "cell_type": "markdown",
   "id": "1d2d874f-8713-42bb-8dcf-eee7f8c56bd1",
   "metadata": {
    "slideshow": {
     "slide_type": "skip"
    },
    "tags": []
   },
   "source": [
    "<hr>"
   ]
  },
  {
   "cell_type": "markdown",
   "id": "ebf0fc3c-6204-45a3-b172-b5e12491fe3c",
   "metadata": {
    "slideshow": {
     "slide_type": "slide"
    },
    "tags": []
   },
   "source": [
    "# Title"
   ]
  },
  {
   "cell_type": "markdown",
   "id": "116af101-6936-4b73-a3cc-bf4c7bc13430",
   "metadata": {
    "slideshow": {
     "slide_type": "skip"
    },
    "tags": []
   },
   "source": [
    "**NOTE**"
   ]
  },
  {
   "cell_type": "markdown",
   "id": "17a90711-09d3-493a-befa-976df9292dd6",
   "metadata": {
    "slideshow": {
     "slide_type": "notes"
    },
    "tags": []
   },
   "source": [
    "- a Note that will display in the notes view"
   ]
  }
 ],
 "metadata": {
  "kernelspec": {
   "display_name": "Python 3 (ipykernel)",
   "language": "python",
   "name": "python3"
  },
  "language_info": {
   "codemirror_mode": {
    "name": "ipython",
    "version": 3
   },
   "file_extension": ".py",
   "mimetype": "text/x-python",
   "name": "python",
   "nbconvert_exporter": "python",
   "pygments_lexer": "ipython3",
   "version": "3.11.0"
  }
 },
 "nbformat": 4,
 "nbformat_minor": 5
}
